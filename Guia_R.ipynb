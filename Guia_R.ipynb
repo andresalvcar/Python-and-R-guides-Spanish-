{
 "cells": [
  {
   "cell_type": "markdown",
   "metadata": {},
   "source": [
    "# Andrés Álvarez Carou\n",
    "\n",
    "# Lista de notas y comandos importantes de R\n",
    "\n",
    "\n"
   ]
  },
  {
   "cell_type": "markdown",
   "metadata": {},
   "source": [
    "## Comandos básicos\n",
    "\n",
    "* ! not lógico\n",
    "\n",
    "\n",
    "* && operador lógico 'and' (no vectorizado)\n",
    "\n",
    "\n",
    "* & operador lógico 'and' vectorizado\n",
    "\n",
    "\n",
    "* || operador lógico 'or' (no vectorizado)\n",
    "\n",
    "\n",
    "* | operador lógico 'or' vectorizado\n",
    "\n",
    "\n",
    "* %% division entera\n",
    "\n",
    "\n",
    "* %*% producto matricial\n",
    "\n",
    "\n",
    "* paste('caracter 1','caracter2') concatena caracteres\n",
    "\n",
    "\n",
    "* sort(vector) ordena de menor a mayor\n",
    "\n",
    "\n",
    "* rev(vector) ordena en sentido contrario el vector \n",
    "\n",
    "\n",
    "* seq(0,10,by=2) genera un vector de 0 a 10 con un paso de 2\n",
    "\n",
    "\n",
    "* rep(11,5) repite el numero 11 5 veces\n",
    "\n",
    "\n",
    "* typeof() tipo de vector (si hay 2 tipos diferentes en el mismo vector, p.j. 5 y 'hola' los une\n",
    "\n",
    "\n",
    "* as.integer, as.character convierte en entero o en caracteres respectivamente\n",
    "\n",
    "\n",
    "* is.character comprueba que sea caracter (is.vector)\n",
    "\n",
    "\n",
    "* x[-3] se exluye el elemento 3 del vector\n",
    "\n",
    "\n",
    "* y<- x>5 se contruye un vector logico que cumplan ciertas condiciones\n"
   ]
  },
  {
   "cell_type": "code",
   "execution_count": 1,
   "metadata": {
    "vscode": {
     "languageId": "r"
    }
   },
   "outputs": [
    {
     "name": "stdout",
     "output_type": "stream",
     "text": [
      " [1]  1  2  3  4  5  6  7  8  9 10\n",
      " [1] FALSE FALSE FALSE FALSE FALSE  TRUE  TRUE  TRUE  TRUE  TRUE\n",
      "[1]  6  7  8  9 10\n",
      " [1] FALSE  TRUE FALSE  TRUE FALSE  TRUE FALSE  TRUE FALSE  TRUE\n",
      "[1]  2  4  6  8 10\n"
     ]
    }
   ],
   "source": [
    "# selección de subvectores (mediante índices lógicos)\n",
    "x <- 1:10\n",
    "print(x)\n",
    "\n",
    "# construcción de un vector lógico que indica qué elementos de x son mayores que 5 \n",
    "y <- x > 5\n",
    "print(y)\n",
    "print(x[y])\n",
    "\n",
    "# construcción de un vector lógico que indica qué elementos de x son par\n",
    "z <- x %% 2 == 0\n",
    "print(z)\n",
    "# extraigo esos valores\n",
    "print(x[z])\n"
   ]
  },
  {
   "cell_type": "markdown",
   "metadata": {},
   "source": [
    "* matrix (   , nrow= ,ncol= ,byrow=TRUE) crea una matriz y va escribiendo los elementos por filas\n",
    "\n",
    "* cbind(x,y) crea una matriz a través de la concatenación de los vectores x e y por columnas\n",
    "\n",
    "* rbind(x,y) cbind, pero por filas\n",
    "\n",
    "* rownames(matrix)=c(\"fila1\", \"fila2\") para el caso de columnas: colnames\n",
    "\n",
    "* Otra manera de crear matrices puede ser redefiniendo las d\n",
    "\n",
    "\n"
   ]
  },
  {
   "cell_type": "code",
   "execution_count": 2,
   "metadata": {
    "vscode": {
     "languageId": "r"
    }
   },
   "outputs": [
    {
     "name": "stdout",
     "output_type": "stream",
     "text": [
      "     [,1] [,2]\n",
      "[1,]    1    3\n",
      "[2,]    2    4\n"
     ]
    },
    {
     "data": {
      "text/html": [
       "<table class=\"dataframe\">\n",
       "<caption>A matrix: 2 × 2 of type int</caption>\n",
       "<tbody>\n",
       "\t<tr><td>1</td><td>3</td></tr>\n",
       "\t<tr><td>2</td><td>4</td></tr>\n",
       "</tbody>\n",
       "</table>\n"
      ],
      "text/latex": [
       "A matrix: 2 × 2 of type int\n",
       "\\begin{tabular}{ll}\n",
       "\t 1 & 3\\\\\n",
       "\t 2 & 4\\\\\n",
       "\\end{tabular}\n"
      ],
      "text/markdown": [
       "\n",
       "A matrix: 2 × 2 of type int\n",
       "\n",
       "| 1 | 3 |\n",
       "| 2 | 4 |\n",
       "\n"
      ],
      "text/plain": [
       "     [,1] [,2]\n",
       "[1,] 1    3   \n",
       "[2,] 2    4   "
      ]
     },
     "metadata": {},
     "output_type": "display_data"
    }
   ],
   "source": [
    "x<-1:4\n",
    "dim(x)<-c(2,2)\n",
    "print(x)\n",
    "x "
   ]
  },
  {
   "cell_type": "markdown",
   "metadata": {},
   "source": [
    "\n",
    "* Un array es una colección de elementos indexados"
   ]
  },
  {
   "cell_type": "code",
   "execution_count": 3,
   "metadata": {
    "vscode": {
     "languageId": "r"
    }
   },
   "outputs": [
    {
     "name": "stdout",
     "output_type": "stream",
     "text": [
      ", , 1\n",
      "\n",
      "     [,1] [,2] [,3]\n",
      "[1,]    1    3    5\n",
      "[2,]    2    4    6\n",
      "\n",
      ", , 2\n",
      "\n",
      "     [,1] [,2] [,3]\n",
      "[1,]    7    9   11\n",
      "[2,]    8   10   12\n",
      "\n",
      ", , 3\n",
      "\n",
      "     [,1] [,2] [,3]\n",
      "[1,]   13   15   17\n",
      "[2,]   14   16   18\n",
      "\n",
      ", , 4\n",
      "\n",
      "     [,1] [,2] [,3]\n",
      "[1,]   19   21   23\n",
      "[2,]   20   22   24\n",
      "\n"
     ]
    },
    {
     "data": {
      "text/html": [
       "'array'"
      ],
      "text/latex": [
       "'array'"
      ],
      "text/markdown": [
       "'array'"
      ],
      "text/plain": [
       "[1] \"array\""
      ]
     },
     "metadata": {},
     "output_type": "display_data"
    },
    {
     "name": "stdout",
     "output_type": "stream",
     "text": [
      "[1] 2 3 4\n",
      ", , 1\n",
      "\n",
      "     [,1] [,2] [,3]\n",
      "[1,]    1    3    5\n",
      "[2,]    2    4    6\n",
      "\n",
      ", , 2\n",
      "\n",
      "     [,1] [,2] [,3]\n",
      "[1,]    7    9   11\n",
      "[2,]    8   10   12\n",
      "\n",
      ", , 3\n",
      "\n",
      "     [,1] [,2] [,3]\n",
      "[1,]   13   15   17\n",
      "[2,]   14   16   18\n",
      "\n",
      ", , 4\n",
      "\n",
      "     [,1] [,2] [,3]\n",
      "[1,]   19   21   23\n",
      "[2,]   20   22   24\n",
      "\n"
     ]
    },
    {
     "data": {
      "text/html": [
       "'array'"
      ],
      "text/latex": [
       "'array'"
      ],
      "text/markdown": [
       "'array'"
      ],
      "text/plain": [
       "[1] \"array\""
      ]
     },
     "metadata": {},
     "output_type": "display_data"
    },
    {
     "name": "stdout",
     "output_type": "stream",
     "text": [
      "[1] 2 3 4\n"
     ]
    }
   ],
   "source": [
    "# creación de un array\n",
    "\n",
    "# mediante `array`\n",
    "a <- array(1:24, dim = c(2,3,4))  #2 filas 3 columnas y 4 matrices\n",
    "print(a)\n",
    "class(a)\n",
    "print(dim(a))\n",
    "\n",
    "# mediante `dim`\n",
    "x <- c(1:24)\n",
    "dim(x) <- c(2,3,4) \n",
    "print(x)\n",
    "class(x)\n",
    "print(dim(x))"
   ]
  },
  {
   "cell_type": "markdown",
   "metadata": {},
   "source": [
    "### factores"
   ]
  },
  {
   "cell_type": "code",
   "execution_count": 4,
   "metadata": {
    "vscode": {
     "languageId": "r"
    }
   },
   "outputs": [
    {
     "name": "stdout",
     "output_type": "stream",
     "text": [
      "[1] San Tor Ovi Ovi San Ovi San Tor Ovi\n",
      "Levels: Ovi San Tor\n"
     ]
    },
    {
     "data": {
      "text/html": [
       "<dl>\n",
       "\t<dt>$levels</dt>\n",
       "\t\t<dd><style>\n",
       ".list-inline {list-style: none; margin:0; padding: 0}\n",
       ".list-inline>li {display: inline-block}\n",
       ".list-inline>li:not(:last-child)::after {content: \"\\00b7\"; padding: 0 .5ex}\n",
       "</style>\n",
       "<ol class=list-inline><li>'Ovi'</li><li>'San'</li><li>'Tor'</li></ol>\n",
       "</dd>\n",
       "\t<dt>$class</dt>\n",
       "\t\t<dd>'factor'</dd>\n",
       "</dl>\n"
      ],
      "text/latex": [
       "\\begin{description}\n",
       "\\item[\\$levels] \\begin{enumerate*}\n",
       "\\item 'Ovi'\n",
       "\\item 'San'\n",
       "\\item 'Tor'\n",
       "\\end{enumerate*}\n",
       "\n",
       "\\item[\\$class] 'factor'\n",
       "\\end{description}\n"
      ],
      "text/markdown": [
       "$levels\n",
       ":   1. 'Ovi'\n",
       "2. 'San'\n",
       "3. 'Tor'\n",
       "\n",
       "\n",
       "\n",
       "$class\n",
       ":   'factor'\n",
       "\n",
       "\n"
      ],
      "text/plain": [
       "$levels\n",
       "[1] \"Ovi\" \"San\" \"Tor\"\n",
       "\n",
       "$class\n",
       "[1] \"factor\"\n"
      ]
     },
     "metadata": {},
     "output_type": "display_data"
    },
    {
     "name": "stdout",
     "output_type": "stream",
     "text": [
      "[1] \"Ovi\" \"San\" \"Tor\"\n",
      "[1] \"factor\"\n"
     ]
    },
    {
     "data": {
      "text/html": [
       "3"
      ],
      "text/latex": [
       "3"
      ],
      "text/markdown": [
       "3"
      ],
      "text/plain": [
       "[1] 3"
      ]
     },
     "metadata": {},
     "output_type": "display_data"
    },
    {
     "data": {
      "text/plain": [
       "ciudadesf\n",
       "Ovi San Tor \n",
       "  4   3   2 "
      ]
     },
     "metadata": {},
     "output_type": "display_data"
    },
    {
     "data": {
      "image/png": "[encoded data removed]",
      "text/plain": [
       "plot without title"
      ]
     },
     "metadata": {
      "image/png": {
       "height": 420,
       "width": 420
      }
     },
     "output_type": "display_data"
    }
   ],
   "source": [
    "# creación de un factor\n",
    "ciudades <- c(\"San\",\"Tor\",\"Ovi\",\"Ovi\",\"San\",\"Ovi\",\"San\",\"Tor\",\"Ovi\")\n",
    "\n",
    "ciudadesf <- factor(ciudades)  # creo un factor a partir del vector dado\n",
    "print(ciudadesf)\n",
    "\n",
    "# atributos del factor creado\n",
    "attributes(ciudadesf)\n",
    "\n",
    "# acceso a los atributos \n",
    "print(levels(ciudadesf))\n",
    "print(class(ciudadesf))\n",
    "\n",
    "# ¿cuántas ciudades distintas hay en mi vector inicial?\n",
    "length(levels(ciudadesf))  \n",
    "table(ciudadesf)  # tabla resumen (también funciona para vectores)\n",
    "plot(ciudadesf)  # histograma frecuencias\n",
    "\n"
   ]
  },
  {
   "cell_type": "markdown",
   "metadata": {},
   "source": [
    "### Listas\n",
    "\n",
    "* Una lista es una colección de elementos que puedes ser de deiferentes clases:"
   ]
  },
  {
   "cell_type": "code",
   "execution_count": 5,
   "metadata": {
    "vscode": {
     "languageId": "r"
    }
   },
   "outputs": [
    {
     "name": "stdout",
     "output_type": "stream",
     "text": [
      "[[1]]\n",
      "[1] \"Pedro\"\n",
      "\n",
      "[[2]]\n",
      "[1] \"Pelayo\"\n",
      "\n",
      "[[3]]\n",
      "[1] 3\n",
      "\n",
      "[[4]]\n",
      "[1] 4 7 9\n",
      "\n",
      "[[5]]\n",
      "     [,1] [,2] [,3]\n",
      "[1,]    1    1    1\n",
      "[2,]    1    1    1\n",
      "\n",
      "$nombre\n",
      "[1] \"Pedro\"\n",
      "\n",
      "$apellido\n",
      "[1] \"Pelayo\"\n",
      "\n",
      "$no.hijos\n",
      "[1] 3\n",
      "\n",
      "$edad.hijos\n",
      "[1] 4 7 9\n",
      "\n"
     ]
    },
    {
     "data": {
      "text/html": [
       "'Pedro'"
      ],
      "text/latex": [
       "'Pedro'"
      ],
      "text/markdown": [
       "'Pedro'"
      ],
      "text/plain": [
       "[1] \"Pedro\""
      ]
     },
     "metadata": {},
     "output_type": "display_data"
    },
    {
     "data": {
      "text/html": [
       "<style>\n",
       ".list-inline {list-style: none; margin:0; padding: 0}\n",
       ".list-inline>li {display: inline-block}\n",
       ".list-inline>li:not(:last-child)::after {content: \"\\00b7\"; padding: 0 .5ex}\n",
       "</style>\n",
       "<ol class=list-inline><li>4</li><li>7</li><li>9</li></ol>\n"
      ],
      "text/latex": [
       "\\begin{enumerate*}\n",
       "\\item 4\n",
       "\\item 7\n",
       "\\item 9\n",
       "\\end{enumerate*}\n"
      ],
      "text/markdown": [
       "1. 4\n",
       "2. 7\n",
       "3. 9\n",
       "\n",
       "\n"
      ],
      "text/plain": [
       "[1] 4 7 9"
      ]
     },
     "metadata": {},
     "output_type": "display_data"
    },
    {
     "data": {
      "text/html": [
       "4"
      ],
      "text/latex": [
       "4"
      ],
      "text/markdown": [
       "4"
      ],
      "text/plain": [
       "[1] 4"
      ]
     },
     "metadata": {},
     "output_type": "display_data"
    },
    {
     "data": {
      "text/html": [
       "'Pedro'"
      ],
      "text/latex": [
       "'Pedro'"
      ],
      "text/markdown": [
       "'Pedro'"
      ],
      "text/plain": [
       "[1] \"Pedro\""
      ]
     },
     "metadata": {},
     "output_type": "display_data"
    },
    {
     "data": {
      "text/html": [
       "3"
      ],
      "text/latex": [
       "3"
      ],
      "text/markdown": [
       "3"
      ],
      "text/plain": [
       "[1] 3"
      ]
     },
     "metadata": {},
     "output_type": "display_data"
    }
   ],
   "source": [
    "list1 <- list(\"Pedro\", \"Pelayo\", 3, c(4,7,9), matrix(1, nrow = 2, ncol = 3))\n",
    "print(list1)\n",
    "\n",
    "# se le puede dar nombres a los elementos de una lista\n",
    "list2 <- list(nombre = \"Pedro\", apellido = \"Pelayo\", no.hijos = 3, edad.hijos = c(4,7,9))\n",
    "print(list2)\n",
    "\n",
    "# selección de sublistas\n",
    "list2[[1]]  # primer elemento de la lista\n",
    "list2[[4]]  # cuarto elemento de la lista\n",
    "list2[[4]][1]  # primer elemento dentro del cuarto elemento de la lista\n",
    "list2$nombre  # acceso por etiquetas\n",
    "list2$no.hijos  # acceso por etiquetas"
   ]
  },
  {
   "cell_type": "markdown",
   "metadata": {},
   "source": [
    "## La familia Apply\n",
    "\n",
    "apply() y sus variantes son útiles para manipular matrices, arrays, listas o dataframes comodamente sin tener que dar uso a los ciclos (while)"
   ]
  },
  {
   "cell_type": "markdown",
   "metadata": {},
   "source": [
    "\n",
    "### `Apply()`"
   ]
  },
  {
   "cell_type": "markdown",
   "metadata": {},
   "source": [
    "El comando apply se utliza sobre arrays multidimensionales (matrices)\n",
    "\n",
    "`apply(X, Margin, Fun)`\n",
    "\n",
    "* X es el array sobre el que queremos trabajar\n",
    "* Margin=1 aplicamos la función en filas y Margin=2 en columnas\n",
    "* Fun función que aplicamos a la matriz (mean, min, una función inventada...)\n",
    "\n",
    " Extra! Podemos añadir na.rm=TRUE si queremos que elimine los términos NA\n"
   ]
  },
  {
   "cell_type": "code",
   "execution_count": 6,
   "metadata": {
    "vscode": {
     "languageId": "r"
    }
   },
   "outputs": [
    {
     "name": "stdout",
     "output_type": "stream",
     "text": [
      "     [,1] [,2] [,3]\n",
      "[1,]    1   NA    7\n",
      "[2,]    2    5    8\n",
      "[3,]    3    6    9\n"
     ]
    },
    {
     "data": {
      "text/html": [
       "FALSE"
      ],
      "text/latex": [
       "FALSE"
      ],
      "text/markdown": [
       "FALSE"
      ],
      "text/plain": [
       "[1] FALSE"
      ]
     },
     "metadata": {},
     "output_type": "display_data"
    },
    {
     "data": {
      "text/html": [
       "TRUE"
      ],
      "text/latex": [
       "TRUE"
      ],
      "text/markdown": [
       "TRUE"
      ],
      "text/plain": [
       "[1] TRUE"
      ]
     },
     "metadata": {},
     "output_type": "display_data"
    }
   ],
   "source": [
    "A=1:9\n",
    "dim(A)=c(3,3)\n",
    "A[1,2]=NA\n",
    "print(A)\n",
    "c<-apply(A,1,max,na.rm=TRUE)  #realiza las operaciones por filas\n",
    "is.array(c);is.vector(c)"
   ]
  },
  {
   "cell_type": "markdown",
   "metadata": {},
   "source": [
    "### `lapply()`"
   ]
  },
  {
   "cell_type": "markdown",
   "metadata": {},
   "source": [
    "Utilizaremos el comando lapply para realizar operaciones en listas y data frames\n",
    "\n",
    "`lapply(X, Fun)`\n",
    "\n",
    "Cabe destacar que el objeto que devuelve esta función siempre será una lista (aunque el objeto sobre el que iteramos no lo sea)\n",
    "\n",
    "Si se aplica lapply a una matriz, esta se tratará como un vector (elemento a elemento)\n",
    "\n",
    "Si se aplica lapply a un data frame, las operaciones serán por columnas"
   ]
  },
  {
   "cell_type": "code",
   "execution_count": 7,
   "metadata": {
    "vscode": {
     "languageId": "r"
    }
   },
   "outputs": [
    {
     "data": {
      "text/html": [
       "<ol>\n",
       "\t<li><table class=\"dataframe\">\n",
       "<caption>A matrix: 6 × 6 of type int</caption>\n",
       "<tbody>\n",
       "\t<tr><td> 7</td><td>10</td><td>11</td><td>14</td><td> 4</td><td>13</td></tr>\n",
       "\t<tr><td>10</td><td> 8</td><td> 2</td><td>12</td><td>10</td><td>15</td></tr>\n",
       "\t<tr><td> 8</td><td> 5</td><td>10</td><td>10</td><td> 2</td><td>12</td></tr>\n",
       "\t<tr><td> 2</td><td>11</td><td> 4</td><td>15</td><td> 7</td><td> 4</td></tr>\n",
       "\t<tr><td>13</td><td>15</td><td> 8</td><td> 6</td><td>13</td><td> 1</td></tr>\n",
       "\t<tr><td> 9</td><td> 1</td><td> 6</td><td> 9</td><td> 9</td><td>10</td></tr>\n",
       "</tbody>\n",
       "</table>\n",
       "</li>\n",
       "\t<li><table class=\"dataframe\">\n",
       "<caption>A matrix: 6 × 6 of type int</caption>\n",
       "<tbody>\n",
       "\t<tr><td> 5</td><td> 2</td><td> 5</td><td>14</td><td> 3</td><td>11</td></tr>\n",
       "\t<tr><td>10</td><td>15</td><td>11</td><td> 3</td><td> 8</td><td> 1</td></tr>\n",
       "\t<tr><td>13</td><td>13</td><td>14</td><td> 1</td><td>15</td><td>12</td></tr>\n",
       "\t<tr><td> 7</td><td> 7</td><td>13</td><td>10</td><td> 1</td><td>15</td></tr>\n",
       "\t<tr><td>14</td><td> 5</td><td> 2</td><td> 9</td><td> 6</td><td>14</td></tr>\n",
       "\t<tr><td>12</td><td>11</td><td> 3</td><td> 2</td><td> 4</td><td> 2</td></tr>\n",
       "</tbody>\n",
       "</table>\n",
       "</li>\n",
       "\t<li><table class=\"dataframe\">\n",
       "<caption>A matrix: 6 × 6 of type int</caption>\n",
       "<tbody>\n",
       "\t<tr><td>13</td><td> 5</td><td>15</td><td> 7</td><td> 2</td><td>12</td></tr>\n",
       "\t<tr><td> 2</td><td>15</td><td> 5</td><td> 4</td><td> 6</td><td> 1</td></tr>\n",
       "\t<tr><td> 8</td><td>13</td><td>14</td><td> 6</td><td>13</td><td> 6</td></tr>\n",
       "\t<tr><td> 4</td><td> 7</td><td> 6</td><td>15</td><td>15</td><td>13</td></tr>\n",
       "\t<tr><td> 7</td><td> 3</td><td> 8</td><td> 5</td><td> 8</td><td>10</td></tr>\n",
       "\t<tr><td> 3</td><td> 6</td><td>11</td><td> 8</td><td> 3</td><td> 2</td></tr>\n",
       "</tbody>\n",
       "</table>\n",
       "</li>\n",
       "\t<li><table class=\"dataframe\">\n",
       "<caption>A matrix: 6 × 6 of type int</caption>\n",
       "<tbody>\n",
       "\t<tr><td> 5</td><td>11</td><td>12</td><td>14</td><td> 8</td><td> 9</td></tr>\n",
       "\t<tr><td>15</td><td>14</td><td> 2</td><td> 5</td><td>13</td><td> 7</td></tr>\n",
       "\t<tr><td>11</td><td>13</td><td> 4</td><td>13</td><td>14</td><td>11</td></tr>\n",
       "\t<tr><td>14</td><td> 4</td><td> 3</td><td> 6</td><td> 5</td><td>12</td></tr>\n",
       "\t<tr><td> 9</td><td>15</td><td> 6</td><td> 7</td><td> 3</td><td> 5</td></tr>\n",
       "\t<tr><td> 2</td><td> 9</td><td>10</td><td>15</td><td> 2</td><td> 1</td></tr>\n",
       "</tbody>\n",
       "</table>\n",
       "</li>\n",
       "</ol>\n"
      ],
      "text/latex": [
       "\\begin{enumerate}\n",
       "\\item A matrix: 6 × 6 of type int\n",
       "\\begin{tabular}{llllll}\n",
       "\t  7 & 10 & 11 & 14 &  4 & 13\\\\\n",
       "\t 10 &  8 &  2 & 12 & 10 & 15\\\\\n",
       "\t  8 &  5 & 10 & 10 &  2 & 12\\\\\n",
       "\t  2 & 11 &  4 & 15 &  7 &  4\\\\\n",
       "\t 13 & 15 &  8 &  6 & 13 &  1\\\\\n",
       "\t  9 &  1 &  6 &  9 &  9 & 10\\\\\n",
       "\\end{tabular}\n",
       "\n",
       "\\item A matrix: 6 × 6 of type int\n",
       "\\begin{tabular}{llllll}\n",
       "\t  5 &  2 &  5 & 14 &  3 & 11\\\\\n",
       "\t 10 & 15 & 11 &  3 &  8 &  1\\\\\n",
       "\t 13 & 13 & 14 &  1 & 15 & 12\\\\\n",
       "\t  7 &  7 & 13 & 10 &  1 & 15\\\\\n",
       "\t 14 &  5 &  2 &  9 &  6 & 14\\\\\n",
       "\t 12 & 11 &  3 &  2 &  4 &  2\\\\\n",
       "\\end{tabular}\n",
       "\n",
       "\\item A matrix: 6 × 6 of type int\n",
       "\\begin{tabular}{llllll}\n",
       "\t 13 &  5 & 15 &  7 &  2 & 12\\\\\n",
       "\t  2 & 15 &  5 &  4 &  6 &  1\\\\\n",
       "\t  8 & 13 & 14 &  6 & 13 &  6\\\\\n",
       "\t  4 &  7 &  6 & 15 & 15 & 13\\\\\n",
       "\t  7 &  3 &  8 &  5 &  8 & 10\\\\\n",
       "\t  3 &  6 & 11 &  8 &  3 &  2\\\\\n",
       "\\end{tabular}\n",
       "\n",
       "\\item A matrix: 6 × 6 of type int\n",
       "\\begin{tabular}{llllll}\n",
       "\t  5 & 11 & 12 & 14 &  8 &  9\\\\\n",
       "\t 15 & 14 &  2 &  5 & 13 &  7\\\\\n",
       "\t 11 & 13 &  4 & 13 & 14 & 11\\\\\n",
       "\t 14 &  4 &  3 &  6 &  5 & 12\\\\\n",
       "\t  9 & 15 &  6 &  7 &  3 &  5\\\\\n",
       "\t  2 &  9 & 10 & 15 &  2 &  1\\\\\n",
       "\\end{tabular}\n",
       "\n",
       "\\end{enumerate}\n"
      ],
      "text/markdown": [
       "1. \n",
       "A matrix: 6 × 6 of type int\n",
       "\n",
       "|  7 | 10 | 11 | 14 |  4 | 13 |\n",
       "| 10 |  8 |  2 | 12 | 10 | 15 |\n",
       "|  8 |  5 | 10 | 10 |  2 | 12 |\n",
       "|  2 | 11 |  4 | 15 |  7 |  4 |\n",
       "| 13 | 15 |  8 |  6 | 13 |  1 |\n",
       "|  9 |  1 |  6 |  9 |  9 | 10 |\n",
       "\n",
       "\n",
       "2. \n",
       "A matrix: 6 × 6 of type int\n",
       "\n",
       "|  5 |  2 |  5 | 14 |  3 | 11 |\n",
       "| 10 | 15 | 11 |  3 |  8 |  1 |\n",
       "| 13 | 13 | 14 |  1 | 15 | 12 |\n",
       "|  7 |  7 | 13 | 10 |  1 | 15 |\n",
       "| 14 |  5 |  2 |  9 |  6 | 14 |\n",
       "| 12 | 11 |  3 |  2 |  4 |  2 |\n",
       "\n",
       "\n",
       "3. \n",
       "A matrix: 6 × 6 of type int\n",
       "\n",
       "| 13 |  5 | 15 |  7 |  2 | 12 |\n",
       "|  2 | 15 |  5 |  4 |  6 |  1 |\n",
       "|  8 | 13 | 14 |  6 | 13 |  6 |\n",
       "|  4 |  7 |  6 | 15 | 15 | 13 |\n",
       "|  7 |  3 |  8 |  5 |  8 | 10 |\n",
       "|  3 |  6 | 11 |  8 |  3 |  2 |\n",
       "\n",
       "\n",
       "4. \n",
       "A matrix: 6 × 6 of type int\n",
       "\n",
       "|  5 | 11 | 12 | 14 |  8 |  9 |\n",
       "| 15 | 14 |  2 |  5 | 13 |  7 |\n",
       "| 11 | 13 |  4 | 13 | 14 | 11 |\n",
       "| 14 |  4 |  3 |  6 |  5 | 12 |\n",
       "|  9 | 15 |  6 |  7 |  3 |  5 |\n",
       "|  2 |  9 | 10 | 15 |  2 |  1 |\n",
       "\n",
       "\n",
       "\n",
       "\n"
      ],
      "text/plain": [
       "[[1]]\n",
       "     [,1] [,2] [,3] [,4] [,5] [,6]\n",
       "[1,]    7   10   11   14    4   13\n",
       "[2,]   10    8    2   12   10   15\n",
       "[3,]    8    5   10   10    2   12\n",
       "[4,]    2   11    4   15    7    4\n",
       "[5,]   13   15    8    6   13    1\n",
       "[6,]    9    1    6    9    9   10\n",
       "\n",
       "[[2]]\n",
       "     [,1] [,2] [,3] [,4] [,5] [,6]\n",
       "[1,]    5    2    5   14    3   11\n",
       "[2,]   10   15   11    3    8    1\n",
       "[3,]   13   13   14    1   15   12\n",
       "[4,]    7    7   13   10    1   15\n",
       "[5,]   14    5    2    9    6   14\n",
       "[6,]   12   11    3    2    4    2\n",
       "\n",
       "[[3]]\n",
       "     [,1] [,2] [,3] [,4] [,5] [,6]\n",
       "[1,]   13    5   15    7    2   12\n",
       "[2,]    2   15    5    4    6    1\n",
       "[3,]    8   13   14    6   13    6\n",
       "[4,]    4    7    6   15   15   13\n",
       "[5,]    7    3    8    5    8   10\n",
       "[6,]    3    6   11    8    3    2\n",
       "\n",
       "[[4]]\n",
       "     [,1] [,2] [,3] [,4] [,5] [,6]\n",
       "[1,]    5   11   12   14    8    9\n",
       "[2,]   15   14    2    5   13    7\n",
       "[3,]   11   13    4   13   14   11\n",
       "[4,]   14    4    3    6    5   12\n",
       "[5,]    9   15    6    7    3    5\n",
       "[6,]    2    9   10   15    2    1\n"
      ]
     },
     "metadata": {},
     "output_type": "display_data"
    },
    {
     "data": {
      "text/html": [
       "<ol>\n",
       "\t<li><style>\n",
       ".list-inline {list-style: none; margin:0; padding: 0}\n",
       ".list-inline>li {display: inline-block}\n",
       ".list-inline>li:not(:last-child)::after {content: \"\\00b7\"; padding: 0 .5ex}\n",
       "</style>\n",
       "<ol class=list-inline><li>8.16666666666667</li><li>8.33333333333333</li><li>6.83333333333333</li><li>11</li><li>7.5</li><li>9.16666666666667</li></ol>\n",
       "</li>\n",
       "\t<li><style>\n",
       ".list-inline {list-style: none; margin:0; padding: 0}\n",
       ".list-inline>li {display: inline-block}\n",
       ".list-inline>li:not(:last-child)::after {content: \"\\00b7\"; padding: 0 .5ex}\n",
       "</style>\n",
       "<ol class=list-inline><li>10.1666666666667</li><li>8.83333333333333</li><li>8</li><li>6.5</li><li>6.16666666666667</li><li>9.16666666666667</li></ol>\n",
       "</li>\n",
       "\t<li><style>\n",
       ".list-inline {list-style: none; margin:0; padding: 0}\n",
       ".list-inline>li {display: inline-block}\n",
       ".list-inline>li:not(:last-child)::after {content: \"\\00b7\"; padding: 0 .5ex}\n",
       "</style>\n",
       "<ol class=list-inline><li>6.16666666666667</li><li>8.16666666666667</li><li>9.83333333333333</li><li>7.5</li><li>7.83333333333333</li><li>7.33333333333333</li></ol>\n",
       "</li>\n",
       "\t<li><style>\n",
       ".list-inline {list-style: none; margin:0; padding: 0}\n",
       ".list-inline>li {display: inline-block}\n",
       ".list-inline>li:not(:last-child)::after {content: \"\\00b7\"; padding: 0 .5ex}\n",
       "</style>\n",
       "<ol class=list-inline><li>9.33333333333333</li><li>11</li><li>6.16666666666667</li><li>10</li><li>7.5</li><li>7.5</li></ol>\n",
       "</li>\n",
       "</ol>\n"
      ],
      "text/latex": [
       "\\begin{enumerate}\n",
       "\\item \\begin{enumerate*}\n",
       "\\item 8.16666666666667\n",
       "\\item 8.33333333333333\n",
       "\\item 6.83333333333333\n",
       "\\item 11\n",
       "\\item 7.5\n",
       "\\item 9.16666666666667\n",
       "\\end{enumerate*}\n",
       "\n",
       "\\item \\begin{enumerate*}\n",
       "\\item 10.1666666666667\n",
       "\\item 8.83333333333333\n",
       "\\item 8\n",
       "\\item 6.5\n",
       "\\item 6.16666666666667\n",
       "\\item 9.16666666666667\n",
       "\\end{enumerate*}\n",
       "\n",
       "\\item \\begin{enumerate*}\n",
       "\\item 6.16666666666667\n",
       "\\item 8.16666666666667\n",
       "\\item 9.83333333333333\n",
       "\\item 7.5\n",
       "\\item 7.83333333333333\n",
       "\\item 7.33333333333333\n",
       "\\end{enumerate*}\n",
       "\n",
       "\\item \\begin{enumerate*}\n",
       "\\item 9.33333333333333\n",
       "\\item 11\n",
       "\\item 6.16666666666667\n",
       "\\item 10\n",
       "\\item 7.5\n",
       "\\item 7.5\n",
       "\\end{enumerate*}\n",
       "\n",
       "\\end{enumerate}\n"
      ],
      "text/markdown": [
       "1. 1. 8.16666666666667\n",
       "2. 8.33333333333333\n",
       "3. 6.83333333333333\n",
       "4. 11\n",
       "5. 7.5\n",
       "6. 9.16666666666667\n",
       "\n",
       "\n",
       "\n",
       "2. 1. 10.1666666666667\n",
       "2. 8.83333333333333\n",
       "3. 8\n",
       "4. 6.5\n",
       "5. 6.16666666666667\n",
       "6. 9.16666666666667\n",
       "\n",
       "\n",
       "\n",
       "3. 1. 6.16666666666667\n",
       "2. 8.16666666666667\n",
       "3. 9.83333333333333\n",
       "4. 7.5\n",
       "5. 7.83333333333333\n",
       "6. 7.33333333333333\n",
       "\n",
       "\n",
       "\n",
       "4. 1. 9.33333333333333\n",
       "2. 11\n",
       "3. 6.16666666666667\n",
       "4. 10\n",
       "5. 7.5\n",
       "6. 7.5\n",
       "\n",
       "\n",
       "\n",
       "\n",
       "\n"
      ],
      "text/plain": [
       "[[1]]\n",
       "[1]  8.166667  8.333333  6.833333 11.000000  7.500000  9.166667\n",
       "\n",
       "[[2]]\n",
       "[1] 10.166667  8.833333  8.000000  6.500000  6.166667  9.166667\n",
       "\n",
       "[[3]]\n",
       "[1] 6.166667 8.166667 9.833333 7.500000 7.833333 7.333333\n",
       "\n",
       "[[4]]\n",
       "[1]  9.333333 11.000000  6.166667 10.000000  7.500000  7.500000\n"
      ]
     },
     "metadata": {},
     "output_type": "display_data"
    },
    {
     "data": {
      "text/html": [
       "<ol>\n",
       "\t<li><style>\n",
       ".list-inline {list-style: none; margin:0; padding: 0}\n",
       ".list-inline>li {display: inline-block}\n",
       ".list-inline>li:not(:last-child)::after {content: \"\\00b7\"; padding: 0 .5ex}\n",
       "</style>\n",
       "<ol class=list-inline><li>8.16666666666667</li><li>8.33333333333333</li><li>6.83333333333333</li><li>11</li><li>7.5</li><li>9.16666666666667</li></ol>\n",
       "</li>\n",
       "\t<li><style>\n",
       ".list-inline {list-style: none; margin:0; padding: 0}\n",
       ".list-inline>li {display: inline-block}\n",
       ".list-inline>li:not(:last-child)::after {content: \"\\00b7\"; padding: 0 .5ex}\n",
       "</style>\n",
       "<ol class=list-inline><li>10.1666666666667</li><li>8.83333333333333</li><li>8</li><li>6.5</li><li>6.16666666666667</li><li>9.16666666666667</li></ol>\n",
       "</li>\n",
       "\t<li><style>\n",
       ".list-inline {list-style: none; margin:0; padding: 0}\n",
       ".list-inline>li {display: inline-block}\n",
       ".list-inline>li:not(:last-child)::after {content: \"\\00b7\"; padding: 0 .5ex}\n",
       "</style>\n",
       "<ol class=list-inline><li>6.16666666666667</li><li>8.16666666666667</li><li>9.83333333333333</li><li>7.5</li><li>7.83333333333333</li><li>7.33333333333333</li></ol>\n",
       "</li>\n",
       "\t<li><style>\n",
       ".list-inline {list-style: none; margin:0; padding: 0}\n",
       ".list-inline>li {display: inline-block}\n",
       ".list-inline>li:not(:last-child)::after {content: \"\\00b7\"; padding: 0 .5ex}\n",
       "</style>\n",
       "<ol class=list-inline><li>9.33333333333333</li><li>11</li><li>6.16666666666667</li><li>10</li><li>7.5</li><li>7.5</li></ol>\n",
       "</li>\n",
       "</ol>\n"
      ],
      "text/latex": [
       "\\begin{enumerate}\n",
       "\\item \\begin{enumerate*}\n",
       "\\item 8.16666666666667\n",
       "\\item 8.33333333333333\n",
       "\\item 6.83333333333333\n",
       "\\item 11\n",
       "\\item 7.5\n",
       "\\item 9.16666666666667\n",
       "\\end{enumerate*}\n",
       "\n",
       "\\item \\begin{enumerate*}\n",
       "\\item 10.1666666666667\n",
       "\\item 8.83333333333333\n",
       "\\item 8\n",
       "\\item 6.5\n",
       "\\item 6.16666666666667\n",
       "\\item 9.16666666666667\n",
       "\\end{enumerate*}\n",
       "\n",
       "\\item \\begin{enumerate*}\n",
       "\\item 6.16666666666667\n",
       "\\item 8.16666666666667\n",
       "\\item 9.83333333333333\n",
       "\\item 7.5\n",
       "\\item 7.83333333333333\n",
       "\\item 7.33333333333333\n",
       "\\end{enumerate*}\n",
       "\n",
       "\\item \\begin{enumerate*}\n",
       "\\item 9.33333333333333\n",
       "\\item 11\n",
       "\\item 6.16666666666667\n",
       "\\item 10\n",
       "\\item 7.5\n",
       "\\item 7.5\n",
       "\\end{enumerate*}\n",
       "\n",
       "\\end{enumerate}\n"
      ],
      "text/markdown": [
       "1. 1. 8.16666666666667\n",
       "2. 8.33333333333333\n",
       "3. 6.83333333333333\n",
       "4. 11\n",
       "5. 7.5\n",
       "6. 9.16666666666667\n",
       "\n",
       "\n",
       "\n",
       "2. 1. 10.1666666666667\n",
       "2. 8.83333333333333\n",
       "3. 8\n",
       "4. 6.5\n",
       "5. 6.16666666666667\n",
       "6. 9.16666666666667\n",
       "\n",
       "\n",
       "\n",
       "3. 1. 6.16666666666667\n",
       "2. 8.16666666666667\n",
       "3. 9.83333333333333\n",
       "4. 7.5\n",
       "5. 7.83333333333333\n",
       "6. 7.33333333333333\n",
       "\n",
       "\n",
       "\n",
       "4. 1. 9.33333333333333\n",
       "2. 11\n",
       "3. 6.16666666666667\n",
       "4. 10\n",
       "5. 7.5\n",
       "6. 7.5\n",
       "\n",
       "\n",
       "\n",
       "\n",
       "\n"
      ],
      "text/plain": [
       "[[1]]\n",
       "[1]  8.166667  8.333333  6.833333 11.000000  7.500000  9.166667\n",
       "\n",
       "[[2]]\n",
       "[1] 10.166667  8.833333  8.000000  6.500000  6.166667  9.166667\n",
       "\n",
       "[[3]]\n",
       "[1] 6.166667 8.166667 9.833333 7.500000 7.833333 7.333333\n",
       "\n",
       "[[4]]\n",
       "[1]  9.333333 11.000000  6.166667 10.000000  7.500000  7.500000\n"
      ]
     },
     "metadata": {},
     "output_type": "display_data"
    }
   ],
   "source": [
    "lista.mat <- replicate(replicate(expr = sample(1:15, size = 6),n = 6,), n = 4 , simplify = F) # simplify = FALSE no simplifica en un array\n",
    "lista.mat\n",
    "\n",
    "lapply(lista.mat, function(m) apply(m, 2, mean)) # o utilizando la funcion colMeans():\n",
    "lapply(lista.mat, colMeans)"
   ]
  },
  {
   "cell_type": "markdown",
   "metadata": {},
   "source": [
    "### `sapply()`"
   ]
  },
  {
   "cell_type": "markdown",
   "metadata": {},
   "source": [
    "La función sapply es similar a lapply. La diferencia es que sapply \n",
    "simplificará el resultado obtenido:\n",
    "Si la salida es de 1 dimensión, lo simplifica a un vector\n",
    "Si es de 2 dimensiones, en una matriz\n",
    "\n",
    "En el ejemplo anterior la convertiría a una matriz\n"
   ]
  },
  {
   "cell_type": "code",
   "execution_count": 8,
   "metadata": {
    "vscode": {
     "languageId": "r"
    }
   },
   "outputs": [
    {
     "data": {
      "text/html": [
       "<table class=\"dataframe\">\n",
       "<caption>A matrix: 6 × 4 of type dbl</caption>\n",
       "<tbody>\n",
       "\t<tr><td> 9.166667</td><td> 8.166667</td><td>9.333333</td><td>8.833333</td></tr>\n",
       "\t<tr><td> 7.500000</td><td> 7.666667</td><td>8.833333</td><td>8.666667</td></tr>\n",
       "\t<tr><td> 6.166667</td><td> 8.833333</td><td>6.833333</td><td>6.666667</td></tr>\n",
       "\t<tr><td>10.666667</td><td> 9.166667</td><td>7.666667</td><td>8.500000</td></tr>\n",
       "\t<tr><td> 6.333333</td><td> 9.166667</td><td>5.333333</td><td>7.000000</td></tr>\n",
       "\t<tr><td> 8.500000</td><td>10.000000</td><td>7.166667</td><td>6.000000</td></tr>\n",
       "</tbody>\n",
       "</table>\n"
      ],
      "text/latex": [
       "A matrix: 6 × 4 of type dbl\n",
       "\\begin{tabular}{llll}\n",
       "\t  9.166667 &  8.166667 & 9.333333 & 8.833333\\\\\n",
       "\t  7.500000 &  7.666667 & 8.833333 & 8.666667\\\\\n",
       "\t  6.166667 &  8.833333 & 6.833333 & 6.666667\\\\\n",
       "\t 10.666667 &  9.166667 & 7.666667 & 8.500000\\\\\n",
       "\t  6.333333 &  9.166667 & 5.333333 & 7.000000\\\\\n",
       "\t  8.500000 & 10.000000 & 7.166667 & 6.000000\\\\\n",
       "\\end{tabular}\n"
      ],
      "text/markdown": [
       "\n",
       "A matrix: 6 × 4 of type dbl\n",
       "\n",
       "|  9.166667 |  8.166667 | 9.333333 | 8.833333 |\n",
       "|  7.500000 |  7.666667 | 8.833333 | 8.666667 |\n",
       "|  6.166667 |  8.833333 | 6.833333 | 6.666667 |\n",
       "| 10.666667 |  9.166667 | 7.666667 | 8.500000 |\n",
       "|  6.333333 |  9.166667 | 5.333333 | 7.000000 |\n",
       "|  8.500000 | 10.000000 | 7.166667 | 6.000000 |\n",
       "\n"
      ],
      "text/plain": [
       "     [,1]      [,2]      [,3]     [,4]    \n",
       "[1,]  9.166667  8.166667 9.333333 8.833333\n",
       "[2,]  7.500000  7.666667 8.833333 8.666667\n",
       "[3,]  6.166667  8.833333 6.833333 6.666667\n",
       "[4,] 10.666667  9.166667 7.666667 8.500000\n",
       "[5,]  6.333333  9.166667 5.333333 7.000000\n",
       "[6,]  8.500000 10.000000 7.166667 6.000000"
      ]
     },
     "metadata": {},
     "output_type": "display_data"
    },
    {
     "data": {
      "text/html": [
       "FALSE"
      ],
      "text/latex": [
       "FALSE"
      ],
      "text/markdown": [
       "FALSE"
      ],
      "text/plain": [
       "[1] FALSE"
      ]
     },
     "metadata": {},
     "output_type": "display_data"
    },
    {
     "data": {
      "text/html": [
       "TRUE"
      ],
      "text/latex": [
       "TRUE"
      ],
      "text/markdown": [
       "TRUE"
      ],
      "text/plain": [
       "[1] TRUE"
      ]
     },
     "metadata": {},
     "output_type": "display_data"
    }
   ],
   "source": [
    "lista.mat <- replicate(replicate(expr = sample(1:15, size = 6),n = 6,), n = 4 , simplify = F) # simplify = FALSE no\n",
    "a<-lapply(lista.mat, colMeans)\n",
    "b<-sapply(lista.mat, colMeans)\n",
    "b\n",
    "is.list(b)\n",
    "is.matrix(b)"
   ]
  },
  {
   "cell_type": "markdown",
   "metadata": {},
   "source": [
    "### `mapply()` "
   ]
  },
  {
   "cell_type": "markdown",
   "metadata": {},
   "source": [
    "mapply (multivariant apply) permite vectorizar multiples argumentos\n",
    "\n",
    "`mapply(FUN,...,MoreArgs,SIMPLIFY=TRUE)`\n",
    "\n",
    "* FUN es la función a operar\n",
    "* ... argumentos sobre los que vectorizar\n",
    "* MoreArgs  argumentos adicionales(no vectorizados) ¡Deben de ser listas!\n",
    "* SIMPLIFY=TRUE nos simplifica (parecido a sapply()) FALSE hace lo contrario\n",
    "\n",
    "Mirar ejemplos en los ejercicios del cuaderno S4"
   ]
  },
  {
   "cell_type": "markdown",
   "metadata": {},
   "source": [
    "### `rapply()`, `tapply`, `vapply`\n"
   ]
  },
  {
   "cell_type": "markdown",
   "metadata": {},
   "source": [
    "* rapply() opera recursivamente sobre listas y podemos especificar el tipo de argumento sobre el que se quiere operar. Por ejemplo `classes='numeric'`\n",
    "\n",
    "* tapply es util para operar funciones a una variable, dividiendo esta en grupos según dicta otra variable\n",
    "`tapply(X, INDEX=  , FUN)`\n",
    "\n",
    "* vapply es igual a sapply, pero podemos escoger la clase del output\n",
    "`vapply(X,FUN,clase)"
   ]
  }
 ],
 "metadata": {
  "kernelspec": {
   "display_name": "R",
   "language": "R",
   "name": "ir"
  },
  "language_info": {
   "codemirror_mode": "r",
   "file_extension": ".r",
   "mimetype": "text/x-r-source",
   "name": "R",
   "pygments_lexer": "r",
   "version": "3.6.3"
  }
 },
 "nbformat": 4,
 "nbformat_minor": 2
}
