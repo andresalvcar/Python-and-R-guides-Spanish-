{
 "cells": [
  {
   "cell_type": "markdown",
   "metadata": {},
   "source": [
    "# Andrés Álvarez Carou\n",
    "\n",
    "# Guía Python\n",
    "\n"
   ]
  },
  {
   "cell_type": "markdown",
   "metadata": {},
   "source": [
    "## Introducción y comandos básicos:"
   ]
  },
  {
   "cell_type": "markdown",
   "metadata": {},
   "source": [
    "* `and`, `or` y `not`  son los operadores booleanos para and, or y not\n",
    "\n",
    "\n",
    "* // Es la floor division (nos devuelve el entero más próximo\n",
    "\n",
    "\n",
    "* % devuelve el residuo de una división\n",
    "\n",
    "\n",
    "* range(i,j) secuencia de numeros de i a j-1\n",
    "\n",
    "\n",
    "* float(x) convierte un numero entero x en float\n",
    "\n",
    "\n",
    "* str(x) convierte un valor numerico x en string\n",
    "\n",
    "Los if tienen la siguiente estructura\n",
    "\n",
    "```python\n",
    "if test1:\n",
    "    statement_1\n",
    "elif test2:\n",
    "    statement_2\n",
    "elif test3:\n",
    "    statement_3\n",
    "else:\n",
    "    statement_4\n",
    "```\n",
    "\n",
    "Y los for\n",
    "\n",
    "```python\n",
    "for item in sequence:\n",
    "    statement_1\n",
    "else:\n",
    "    statement_2\n",
    "```\n",
    "\n",
    "Es importante no olvidar poner 2 puntos al final de los test y hacer buena indexación"
   ]
  },
  {
   "cell_type": "code",
   "execution_count": 1,
   "metadata": {},
   "outputs": [],
   "source": [
    "for i in range(1,5):\n",
    "    if i==3:\n",
    "        break\n",
    "else:\n",
    "    print(\"Hola mundo\")\n",
    "\n",
    "        \n",
    "            \n",
    "    "
   ]
  },
  {
   "cell_type": "code",
   "execution_count": 2,
   "metadata": {},
   "outputs": [
    {
     "name": "stdout",
     "output_type": "stream",
     "text": [
      "4\n",
      "1\n",
      "2\n",
      "3\n",
      "4\n"
     ]
    }
   ],
   "source": [
    "i=len(range(1,5))\n",
    "print(i)\n",
    "for i in range(1,5):\n",
    "    print(i)"
   ]
  },
  {
   "cell_type": "markdown",
   "metadata": {},
   "source": [
    "### Listas\n",
    "\n",
    "Son secuencias de objetos\n",
    "\n",
    "* Las listas están ordenadas mediante un índice numérico y el primero \n",
    "de estes es el 0\n",
    "\n",
    "* Para acceder a los elementos tenemos que poner el índice entre corchetes. \n",
    "\n",
    "* Las listas son objetos mutables, esto quiere decir que si creamos una lista\n",
    "a partir de otra y modificamos esta última, entonces la primera se modificará también (no se crea una nueva copia). Veamos un ejemplo: "
   ]
  },
  {
   "cell_type": "code",
   "execution_count": 3,
   "metadata": {},
   "outputs": [
    {
     "name": "stdout",
     "output_type": "stream",
     "text": [
      "[1, 6, 3, 4, 5]\n",
      "[1, 6, 3, 4, 5]\n"
     ]
    }
   ],
   "source": [
    "lista=[1,2,3,4,5]\n",
    "lista1=lista\n",
    "lista1[1]=6\n",
    "print(lista1)\n",
    "print(lista)\n"
   ]
  },
  {
   "cell_type": "markdown",
   "metadata": {},
   "source": [
    "\n",
    "Para solventar esto podemos crear copias de la lista. \n",
    "Tenemos 2 maneras diferentes de realizar esta acción: \n",
    "\n",
    "* Una manera es añadir [:] al final de nuestra lista original en la nueva asignación \n",
    "\n",
    "\n",
    "\n",
    "* Otro modo será mediante .copy()"
   ]
  },
  {
   "cell_type": "code",
   "execution_count": 4,
   "metadata": {},
   "outputs": [
    {
     "name": "stdout",
     "output_type": "stream",
     "text": [
      "[1, 6, 3, 4, 5]\n",
      "[1, 2, 3, 4, 5]\n"
     ]
    }
   ],
   "source": [
    "lista=[1,2,3,4,5]\n",
    "lista1=lista[:]\n",
    "lista1[1]=6\n",
    "print(lista1)\n",
    "print(lista)"
   ]
  },
  {
   "cell_type": "code",
   "execution_count": 5,
   "metadata": {},
   "outputs": [
    {
     "name": "stdout",
     "output_type": "stream",
     "text": [
      "[1, 6, 3, 4, 5]\n",
      "[1, 2, 3, 4, 5]\n"
     ]
    }
   ],
   "source": [
    "lista=[1,2,3,4,5]\n",
    "lista1=lista.copy()\n",
    "lista1[1]=6\n",
    "print(lista1)\n",
    "print(lista)"
   ]
  },
  {
   "cell_type": "markdown",
   "metadata": {},
   "source": [
    "Podemos modificar cómodamente las listas mediante los siguientes comandos: \n",
    "\n",
    "  * Mediante el método `append`.  Añade un elemento al final de la lista\n",
    "  * Mediante el método `insert`.  Eliges la posición del elemento\n",
    "  * Mediante el método `extend`.  Añade una nueva lista a la anterior"
   ]
  },
  {
   "cell_type": "code",
   "execution_count": 6,
   "metadata": {},
   "outputs": [
    {
     "name": "stdout",
     "output_type": "stream",
     "text": [
      "Después de append: ['Hola', 'todos,', 'que', 'tal', 'estáis?']\n",
      "Después de insert: ['Hola', 'a', 'todos,', 'que', 'tal', 'estáis?']\n",
      "Después de extend: ['Hola', 'a', 'todos,', 'que', 'tal', 'estáis?', 'Espero', 'que', 'bien']\n"
     ]
    }
   ],
   "source": [
    "lista = [\"Hola\", \"todos,\", \"que\", \"tal\"]\n",
    "lista.append(\"estáis?\")  #Añades un elemento \n",
    "print(\"Después de append:\", lista)\n",
    "\n",
    "lista.insert(1, \"a\")  #eliges la posición del nuevo elemento\n",
    "print(\"Después de insert:\", lista)\n",
    "\n",
    "lista.extend([\"Espero\", \"que\", \"bien\"])  #Añades una nueva lista a la lista previa\n",
    "print(\"Después de extend:\", lista)"
   ]
  },
  {
   "cell_type": "markdown",
   "metadata": {},
   "source": [
    "También podemos eliminar elementos de nuestras listas mediante: \n",
    "\n",
    "  * Mediante el método `remove`. Elimina lo que le indicamos\n",
    "  * Mediante el método `pop`.   Elimina el último elemento\n",
    "  * Mediante la function `del`.  Elimina mediante el índice"
   ]
  },
  {
   "cell_type": "code",
   "execution_count": 7,
   "metadata": {},
   "outputs": [
    {
     "name": "stdout",
     "output_type": "stream",
     "text": [
      "Elimino \"Hola\": ['a', 'todos,', 'que', 'tal', 'estáis?', 'Espero', 'que', 'bien']\n",
      "Elimino el último elemento: ['a', 'todos,', 'que', 'tal', 'estáis?', 'Espero', 'que']\n",
      "Elimino el elemento del índice 3: ['a', 'todos,', 'que', 'estáis?', 'Espero', 'que']\n"
     ]
    }
   ],
   "source": [
    "lista.remove(\"Hola\")\n",
    "print('Elimino \"Hola\":', lista)\n",
    "\n",
    "lista.pop()\n",
    "print('Elimino el último elemento:', lista)\n",
    "\n",
    "del lista[3]\n",
    "print(\"Elimino el elemento del índice 3:\", lista)\n"
   ]
  },
  {
   "cell_type": "markdown",
   "metadata": {},
   "source": [
    "Las tuplas son secuencias de objetos están ordenadas, son inmutables y no se pueden modificar. "
   ]
  },
  {
   "cell_type": "code",
   "execution_count": 8,
   "metadata": {},
   "outputs": [],
   "source": [
    "t=(1,2,3)\n",
    "\n",
    "t=(1,) #Para crear tuplas de 1 elemento"
   ]
  },
  {
   "cell_type": "markdown",
   "metadata": {},
   "source": [
    "### Diccionarios\n",
    "\n",
    "Un diccionarios es un conjunto de pares `clave:valor` y se define mediante corchetes\n",
    "\n",
    "* Para crear un diccionario podemos hacerlo de 2 maneras diferentes. \n",
    "    * `{}` y escribir los pares separados por :\n",
    "    * Mediante el comando `dict()` y separar los elementos mediante pares ()\n",
    "    \n",
    "    \n"
   ]
  },
  {
   "cell_type": "code",
   "execution_count": 9,
   "metadata": {},
   "outputs": [
    {
     "name": "stdout",
     "output_type": "stream",
     "text": [
      "{1: 'Szymon', 2: 'Julia', 3: 'Jesus'}\n",
      "{1: 'Szymon', 2: 'Julia', 3: 'Jesus'}\n",
      "{'uno': 'Szymon', 'dos': 'Julia', 'tres': 'Jesus'}\n"
     ]
    },
    {
     "data": {
      "text/plain": [
       "'Julia'"
      ]
     },
     "execution_count": 9,
     "metadata": {},
     "output_type": "execute_result"
    }
   ],
   "source": [
    "diccionario1={1:\"Szymon\",2:\"Julia\",3:\"Jesus\"}\n",
    "diccionario2=dict([(1,\"Szymon\"),(2,\"Julia\"),(3,\"Jesus\")])\n",
    "diccionario3=dict(uno=\"Szymon\", dos=\"Julia\", tres=\"Jesus\") \n",
    "#en diccionario3 no podemos definir claves con enteros\n",
    "print(diccionario1)\n",
    "print(diccionario2)\n",
    "print(diccionario3)\n",
    "\n",
    "diccionario1[1]\n",
    "#diccionario1[\"Szymon\"]  #No se puede accceder mediante el valor,\n",
    "                         #   solamente la clave\n",
    "    \n",
    "diccionario3[\"dos\"]    "
   ]
  },
  {
   "cell_type": "code",
   "execution_count": 10,
   "metadata": {},
   "outputs": [
    {
     "name": "stdout",
     "output_type": "stream",
     "text": [
      "{'Nombre': 'Andrés', 'Apellidos': 'Álvarez', 'edad': 23}\n",
      "{'Nombre': 'Andresito', 'Apellidos': 'Álvarez', 'edad': 24}\n"
     ]
    },
    {
     "data": {
      "text/plain": [
       "False"
      ]
     },
     "execution_count": 10,
     "metadata": {},
     "output_type": "execute_result"
    }
   ],
   "source": [
    "diccionario={\"Nombre\":\"Andrés\", \"Apellidos\":\"Álvarez\", \"edad\":23}\n",
    "print(diccionario)\n",
    "#diccionario[1] #No accedemos mediante indexacion\n",
    "diccionario[\"Nombre\"]=\"Andresito\"\n",
    "diccionario[\"edad\"]+=1\n",
    "print(diccionario)\n",
    "\"Nombre\" in diccionario\n",
    "\"Andresito\" in diccionario\n",
    "\n",
    "\n"
   ]
  },
  {
   "cell_type": "code",
   "execution_count": 11,
   "metadata": {},
   "outputs": [
    {
     "name": "stdout",
     "output_type": "stream",
     "text": [
      "{'Nombre': 'Andrés', 'Apellidos': 'Álvarez', 'edad': 23}\n",
      "dict_keys(['Nombre', 'Apellidos', 'edad'])\n",
      "dict_values(['Andrés', 'Álvarez', 23])\n",
      "{'Apellidos': 'Álvarez', 'edad': 23}\n"
     ]
    }
   ],
   "source": [
    "diccionario={\"Nombre\":\"Andrés\", \"Apellidos\":\"Álvarez\", \"edad\":23}\n",
    "print(diccionario)\n",
    "\n",
    "print(diccionario.keys())\n",
    "print(diccionario.values())\n",
    "\n",
    "diccionario.pop(\"Nombre\")\n",
    "print(diccionario)\n",
    "\n",
    "#Para hacer copia del diccionario hacemos igual que las listas \n",
    "#con el comando .copy()"
   ]
  },
  {
   "cell_type": "markdown",
   "metadata": {},
   "source": [
    "### Funciones"
   ]
  },
  {
   "cell_type": "code",
   "execution_count": 12,
   "metadata": {},
   "outputs": [
    {
     "name": "stdout",
     "output_type": "stream",
     "text": [
      "2  es un número par\n"
     ]
    },
    {
     "data": {
      "text/plain": [
       "3.0"
      ]
     },
     "execution_count": 12,
     "metadata": {},
     "output_type": "execute_result"
    }
   ],
   "source": [
    "import math\n",
    "def funcion1(x,y):\n",
    "    \n",
    "    \n",
    "    \n",
    "    if x%2==0:\n",
    "        print(x, \" es un número par\")\n",
    "        \n",
    "    raiz=math.sqrt(y)\n",
    "\n",
    "    return(raiz)\n",
    "\n",
    "\n",
    "funcion1(2,9) #cuidado co la indexacion\n",
    "   \n",
    "    "
   ]
  },
  {
   "cell_type": "markdown",
   "metadata": {},
   "source": [
    "### Módulos y paquetes"
   ]
  },
  {
   "cell_type": "code",
   "execution_count": 13,
   "metadata": {},
   "outputs": [
    {
     "data": {
      "text/plain": [
       "3.0"
      ]
     },
     "execution_count": 13,
     "metadata": {},
     "output_type": "execute_result"
    }
   ],
   "source": [
    "import math as matematicas\n",
    "\n",
    "from math import sqrt as raiz\n",
    "\n",
    "raiz(9)"
   ]
  },
  {
   "cell_type": "markdown",
   "metadata": {},
   "source": [
    "Para más detalles, mirar el ejercicio 4.2 y 4.3\n",
    "\n",
    "A la hora de crear un paquete es importante crear el \n",
    "fichero `__init__.py` para que python reconozca que es un fichero\n",
    "\n"
   ]
  },
  {
   "cell_type": "markdown",
   "metadata": {},
   "source": [
    "## Programación orientada a objetos (OOP)"
   ]
  },
  {
   "cell_type": "code",
   "execution_count": 14,
   "metadata": {},
   "outputs": [
    {
     "name": "stdout",
     "output_type": "stream",
     "text": [
      "<class 'str'>\n",
      "<class 'int'>\n"
     ]
    }
   ],
   "source": [
    "a=\"hola\"\n",
    "b=5\n",
    "print(type(a))\n",
    "print(type(b))"
   ]
  },
  {
   "cell_type": "markdown",
   "metadata": {},
   "source": [
    "* Un objeto es una instancia de una clase \n",
    "* Podemos crear nuevas clases mediante el comando `class`\n",
    "* Una clase puede heredar de una clase padre sus atributos y metodos\n",
    "* Todo en Python son objetos, por lo que es conveniente heredar siempre\n",
    "de la clase objeto\n",
    "* Utilizamos `__ini__` para inicializar la nueva clase\n",
    "\n",
    "\n",
    "* Hay comandos especificos para trabajar las operaciones básicas\n",
    "     * `__add__(self, other)`: `self + other` \n",
    " * `__sub__(self, other)`: `self - other`\n",
    " * `__eq__(self, other)`: `self == other`\n",
    " * `__lt__(self, other)`: `self < other`\n",
    " * `__len__(self)`: `len(self)`\n",
    " * `__str__(self)`: `print self`"
   ]
  },
  {
   "cell_type": "code",
   "execution_count": 15,
   "metadata": {},
   "outputs": [],
   "source": [
    "#Vamos a crear una clase\n",
    "\n",
    "class Piso(object):\n",
    "    carrera=None\n",
    "    \n",
    "    def __init__(self, name, edad):\n",
    "        self.name=name\n",
    "        self.edad=edad\n",
    "    \n",
    "    def __str__(self):\n",
    "        return \"El miembro del piso \"+self.name+\" estudia la carrera de \"+self.carrera\n",
    "    \n",
    "class Matematicas(Piso):\n",
    "    carrera=\"Matematicas\"\n",
    "    \n",
    "class Fisica(Piso):    \n",
    "    carrera=\"Fisica\""
   ]
  },
  {
   "cell_type": "code",
   "execution_count": 16,
   "metadata": {},
   "outputs": [
    {
     "name": "stdout",
     "output_type": "stream",
     "text": [
      "El miembro del piso andres estudia la carrera de Matematicas\n",
      "<class '__main__.Matematicas'>\n"
     ]
    }
   ],
   "source": [
    "a=Matematicas(\"andres\",23)\n",
    "print(a)\n",
    "print(type(a))    \n",
    "\n",
    "#Hemos creado la clase matematicas que hereda directamente de la clase piso"
   ]
  },
  {
   "cell_type": "code",
   "execution_count": 23,
   "metadata": {},
   "outputs": [],
   "source": [
    "#esto es un trasteo mío con las clases\n",
    "\n",
    "class Piso(object):\n",
    "    \n",
    "    \n",
    "    def __init__(self, name, edad):\n",
    "        self.name=name\n",
    "        self.edad=edad\n",
    "    \n",
    "    def __str__(self):\n",
    "        return \"El miembro del piso \"+self.name+self.carrera\n",
    "    \n",
    "class Matematicas(Piso):\n",
    "    \n",
    "    \n",
    "    def __init__(self,carrera):\n",
    "        self.carrera=carrera\n",
    "    def __str__(self):\n",
    "        return \"el compañero es\" + self.name + \"la carrera es \"+self.carrera\n",
    "    \n"
   ]
  },
  {
   "cell_type": "markdown",
   "metadata": {},
   "source": [
    "## Paquete Numpy\n",
    "\n",
    "* Paquete muy importante para operaciones matemáticas, ya que podremos trabajar con arrays y vectores"
   ]
  },
  {
   "cell_type": "code",
   "execution_count": 40,
   "metadata": {},
   "outputs": [
    {
     "name": "stdout",
     "output_type": "stream",
     "text": [
      "[1 2 3 4]\n",
      "[[1 2 3]\n",
      " [4 5 6]\n",
      " [7 8 9]]\n",
      "[[[1 6 8]\n",
      "  [3 4 0]\n",
      "  [0 6 4]]\n",
      "\n",
      " [[0 4 6]\n",
      "  [0 3 1]\n",
      "  [0 0 4]]\n",
      "\n",
      " [[6 6 4]\n",
      "  [2 2 1]\n",
      "  [9 9 7]]]\n"
     ]
    }
   ],
   "source": [
    "import numpy\n",
    "\n",
    "a=numpy.array([1,2,3,4]) #Vector\n",
    "b=numpy.array([[1,2,3],[4,5,6],[7,8,9]])\n",
    "print(a)\n",
    "print(b)\n",
    "b[0,0]   #No nos olviemos que el indexing empieza en el cero \n",
    "c=numpy.random.randint(10,size=(3,3,3))\n",
    "print(c)\n"
   ]
  },
  {
   "cell_type": "code",
   "execution_count": 43,
   "metadata": {},
   "outputs": [
    {
     "name": "stdout",
     "output_type": "stream",
     "text": [
      "4\n",
      "1\n"
     ]
    },
    {
     "data": {
      "text/plain": [
       "array([7, 8, 9])"
      ]
     },
     "execution_count": 43,
     "metadata": {},
     "output_type": "execute_result"
    }
   ],
   "source": [
    "print(c[0,1,1])\n",
    "print(c[1,1,2])\n",
    "b[:,2]\n",
    "b[2,:]"
   ]
  },
  {
   "cell_type": "markdown",
   "metadata": {},
   "source": [
    "El comando `.reshape()` cambia la forma del array según la nueva dimensión que le demos\n",
    "\n",
    "Para transponerlo utilizaremos `transpose()` o `.T`"
   ]
  },
  {
   "cell_type": "code",
   "execution_count": 49,
   "metadata": {},
   "outputs": [
    {
     "name": "stdout",
     "output_type": "stream",
     "text": [
      "[[ 1  3  5]\n",
      " [ 7  9 11]\n",
      " [13 15 17]]\n"
     ]
    },
    {
     "data": {
      "text/plain": [
       "array([[ 1,  7, 13],\n",
       "       [ 3,  9, 15],\n",
       "       [ 5, 11, 17]])"
      ]
     },
     "execution_count": 49,
     "metadata": {},
     "output_type": "execute_result"
    }
   ],
   "source": [
    "g=numpy.arange(1,18,2)\n",
    "g2=g.reshape(3,3)\n",
    "print(g2)\n",
    "\n",
    "g2.transpose()\n",
    "g2.T"
   ]
  },
  {
   "cell_type": "markdown",
   "metadata": {},
   "source": [
    "## Paquete Pandas"
   ]
  },
  {
   "cell_type": "markdown",
   "metadata": {},
   "source": [
    "* Pandas es un paquete de Python que implementa ciertos tipos de datos, construidos sobre `numpy`\n",
    "* Los tipos básicos de Pandas son\n",
    "    * Series: 1 dimensión\n",
    "        * Un array 1D con etiquetas en sus ejes.\n",
    "    * DataFrames: 2 dimensiones\n",
    "        * Datos en formato tabular, con etiquetas en sus ejes.\n",
    "    * Un DataFrame son datos tabulares (tablas)"
   ]
  },
  {
   "cell_type": "code",
   "execution_count": 55,
   "metadata": {},
   "outputs": [],
   "source": [
    "import numpy\n",
    "import pandas"
   ]
  },
  {
   "cell_type": "markdown",
   "metadata": {},
   "source": [
    "Para crear una `Serie` utilizaremos `pandas.Series()`\n",
    "\n",
    "Estas series serán arrays de 1D pero con etiquetas, veamos un ejemplo\n"
   ]
  },
  {
   "cell_type": "code",
   "execution_count": 60,
   "metadata": {},
   "outputs": [
    {
     "name": "stdout",
     "output_type": "stream",
     "text": [
      "0    1\n",
      "1    2\n",
      "2    3\n",
      "3    4\n",
      "dtype: int64\n",
      "[1 2 3 4]\n",
      "<class 'numpy.ndarray'>\n"
     ]
    },
    {
     "data": {
      "text/plain": [
       "RangeIndex(start=0, stop=4, step=1)"
      ]
     },
     "execution_count": 60,
     "metadata": {},
     "output_type": "execute_result"
    }
   ],
   "source": [
    "s=pandas.Series(numpy.arange(1,5,1))\n",
    "print(s)\n",
    "print(s.values)\n",
    "print(type(s.values))\n",
    "s.index"
   ]
  },
  {
   "cell_type": "code",
   "execution_count": 70,
   "metadata": {},
   "outputs": [
    {
     "name": "stdout",
     "output_type": "stream",
     "text": [
      "uno       1\n",
      "dos       2\n",
      "tres      3\n",
      "cuatro    4\n",
      "cinco     5\n",
      "dtype: int64\n",
      "2\n",
      "2\n"
     ]
    }
   ],
   "source": [
    "#Cuando hacemos indexing, lo hacemos a las etiquetas, no a los valores\n",
    "\n",
    "s[0]\n",
    "\n",
    "s2=pandas.Series([1,2,3,4,5],index=[\"uno\",\"dos\",\"tres\",\"cuatro\",\"cinco\"])\n",
    "print(s2)\n",
    "print(s2[1])\n",
    "print(s2[\"dos\"])\n",
    "\n",
    "\n",
    "\n"
   ]
  },
  {
   "cell_type": "code",
   "execution_count": 78,
   "metadata": {},
   "outputs": [
    {
     "name": "stdout",
     "output_type": "stream",
     "text": [
      "2    3\n",
      "3    4\n",
      "4    5\n",
      "5    6\n",
      "6    7\n",
      "7    8\n",
      "dtype: int64\n",
      "6\n",
      "4\n",
      "4\n"
     ]
    }
   ],
   "source": [
    "#Indices implicitos y explicitos\n",
    "\n",
    "s3=pandas.Series([3,4,5,6,7,8],index=[2,3,4,5,6,7])\n",
    "print(s3)\n",
    "\n",
    "#Para el índice implicito usamos .iloc (la posicion real del index)\n",
    "print(s3.iloc[3])\n",
    "\n",
    "#Para el índice explícito usamos .loc (el nombre que le hemos \n",
    "#puesto al apendice)\n",
    "\n",
    "print(s3.loc[3])\n",
    "print(s3[3])   #por defecto es el explicito"
   ]
  },
  {
   "cell_type": "markdown",
   "metadata": {},
   "source": [
    "Podemos crear una serie a partir de un diccionario"
   ]
  },
  {
   "cell_type": "code",
   "execution_count": 67,
   "metadata": {},
   "outputs": [
    {
     "data": {
      "text/plain": [
       "maria     25\n",
       "pedro     76\n",
       "arturo    80\n",
       "rosa      19\n",
       "dtype: int64"
      ]
     },
     "execution_count": 67,
     "metadata": {},
     "output_type": "execute_result"
    }
   ],
   "source": [
    "edad = {\n",
    "    \"maria\": 25,\n",
    "    \"pedro\": 76,\n",
    "    \"arturo\": 80,\n",
    "    \"rosa\": 19,\n",
    "}\n",
    "\n",
    "pandas.Series(edad)"
   ]
  },
  {
   "cell_type": "markdown",
   "metadata": {},
   "source": [
    "Un DataFrame es una representación de datos con etiquetas que \n",
    "pueden tener más de una dimensión\n",
    "\n",
    "Para crear un DataFrame: \n",
    "\n",
    "`pandas.DataFrame(data=None, index=None, dtype=None, copy=None)`\n",
    "\n",
    "Podemos crear DataFrame a partir de un diccionario o de series"
   ]
  },
  {
   "cell_type": "code",
   "execution_count": 68,
   "metadata": {},
   "outputs": [
    {
     "data": {
      "text/html": [
       "<div>\n",
       "<style scoped>\n",
       "    .dataframe tbody tr th:only-of-type {\n",
       "        vertical-align: middle;\n",
       "    }\n",
       "\n",
       "    .dataframe tbody tr th {\n",
       "        vertical-align: top;\n",
       "    }\n",
       "\n",
       "    .dataframe thead th {\n",
       "        text-align: right;\n",
       "    }\n",
       "</style>\n",
       "<table border=\"1\" class=\"dataframe\">\n",
       "  <thead>\n",
       "    <tr style=\"text-align: right;\">\n",
       "      <th></th>\n",
       "      <th>edad</th>\n",
       "      <th>altura</th>\n",
       "    </tr>\n",
       "  </thead>\n",
       "  <tbody>\n",
       "    <tr>\n",
       "      <th>maria</th>\n",
       "      <td>25</td>\n",
       "      <td>1.75</td>\n",
       "    </tr>\n",
       "    <tr>\n",
       "      <th>pedro</th>\n",
       "      <td>76</td>\n",
       "      <td>1.90</td>\n",
       "    </tr>\n",
       "    <tr>\n",
       "      <th>arturo</th>\n",
       "      <td>80</td>\n",
       "      <td>1.68</td>\n",
       "    </tr>\n",
       "    <tr>\n",
       "      <th>rosa</th>\n",
       "      <td>19</td>\n",
       "      <td>1.65</td>\n",
       "    </tr>\n",
       "  </tbody>\n",
       "</table>\n",
       "</div>"
      ],
      "text/plain": [
       "        edad  altura\n",
       "maria     25    1.75\n",
       "pedro     76    1.90\n",
       "arturo    80    1.68\n",
       "rosa      19    1.65"
      ]
     },
     "execution_count": 68,
     "metadata": {},
     "output_type": "execute_result"
    }
   ],
   "source": [
    "# A través de varias Series\n",
    "\n",
    "edad = {\n",
    "    \"maria\": 25,\n",
    "    \"pedro\": 76,\n",
    "    \"arturo\": 80,\n",
    "    \"rosa\": 19,\n",
    "}\n",
    "\n",
    "edad = pandas.Series(edad)\n",
    "\n",
    "altura = {\n",
    "    \"maria\": 1.75,\n",
    "    \"pedro\": 1.90,\n",
    "    \"arturo\": 1.68,\n",
    "    \"rosa\": 1.65,\n",
    "}\n",
    "\n",
    "altura = pandas.Series(altura)\n",
    "\n",
    "personas = pandas.DataFrame({\"edad\": edad, \"altura\": altura})\n",
    "personas"
   ]
  },
  {
   "cell_type": "code",
   "execution_count": 96,
   "metadata": {},
   "outputs": [
    {
     "name": "stdout",
     "output_type": "stream",
     "text": [
      "maria     25\n",
      "pedro     76\n",
      "arturo    80\n",
      "rosa      19\n",
      "Name: edad, dtype: int64\n",
      "maria     25\n",
      "pedro     76\n",
      "arturo    80\n",
      "rosa      19\n",
      "Name: edad, dtype: int64\n",
      "[25.    1.75]\n",
      "76\n",
      "76.0\n",
      "76\n",
      "        edad  altura\n",
      "pedro     76    1.90\n",
      "arturo    80    1.68\n",
      "pedro     76\n",
      "arturo    80\n",
      "Name: edad, dtype: int64\n"
     ]
    }
   ],
   "source": [
    "print(personas[\"edad\"])\n",
    "print(personas.edad)\n",
    "\n",
    "print(personas.values[0])\n",
    "\n",
    "print(personas.edad.values[1])\n",
    "print(personas.values[1,0])\n",
    "\n",
    "#también podemos utilizar .loc e .iloc\n",
    "\n",
    "print(personas.iloc[1,0])\n",
    "\n",
    "print(personas.loc[personas.edad > 50])\n",
    "print(personas.edad.loc[personas.edad > 50])"
   ]
  }
 ],
 "metadata": {
  "kernelspec": {
   "display_name": "Python 3",
   "language": "python",
   "name": "python3"
  },
  "language_info": {
   "codemirror_mode": {
    "name": "ipython",
    "version": 3
   },
   "file_extension": ".py",
   "mimetype": "text/x-python",
   "name": "python",
   "nbconvert_exporter": "python",
   "pygments_lexer": "ipython3",
   "version": "3.6.5"
  }
 },
 "nbformat": 4,
 "nbformat_minor": 2
}
